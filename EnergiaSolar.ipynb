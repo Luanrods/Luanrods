{
  "cells": [
    {
      "cell_type": "markdown",
      "metadata": {
        "id": "view-in-github",
        "colab_type": "text"
      },
      "source": [
        "<a href=\"https://colab.research.google.com/github/Luanrods/Luanrods/blob/main/EnergiaSolar.ipynb\" target=\"_parent\"><img src=\"https://colab.research.google.com/assets/colab-badge.svg\" alt=\"Open In Colab\"/></a>"
      ]
    },
    {
      "cell_type": "code",
      "execution_count": 1,
      "metadata": {
        "id": "IJW2gd5f5w7R"
      },
      "outputs": [],
      "source": [
        "import pandas as pd\n",
        "import matplotlib.pyplot as plt\n",
        "import imageio\n",
        "import seaborn as sns"
      ]
    },
    {
      "cell_type": "code",
      "execution_count": 11,
      "metadata": {
        "id": "hb7BmSYGzUHM"
      },
      "outputs": [],
      "source": [
        "df = pd.read_csv(\"/content/energia_solar_Brasil.csv\", header=0, sep=';')\n",
        "df.columns = ['ID',\t'COUNTRY',\t'LON',\t'LAT',\t'ANUAL', 'JAN', 'FEV', 'MAR', 'ABR', 'MAI', 'JUN', 'JUL', 'AGO', 'SET', 'OUT', 'NOV', 'DEZ']\n"
      ]
    },
    {
      "cell_type": "code",
      "execution_count": null,
      "metadata": {
        "id": "txPtyGB4N47H"
      },
      "outputs": [],
      "source": [
        "meses = ['JAN', 'FEV', 'MAR', 'ABR', 'MAI', 'JUN', 'JUL', 'AGO', 'SET', 'OUT', 'NOV', 'DEZ']\n",
        "\n",
        "for mes in meses:\n",
        "  df.plot.scatter(y='LAT',x='LON', c=mes, cmap='OrRd', vmin='1000', vmax='8000', figsize=(10,8))\n",
        "  plt.savefig(mes +'.png')"
      ]
    },
    {
      "cell_type": "code",
      "execution_count": 15,
      "metadata": {
        "id": "yhZjwBDPN9qU"
      },
      "outputs": [],
      "source": [
        "with imageio.get_writer('mygif.gif', mode='I') as writer:\n",
        "    for filename in ['JAN.png', 'FEV.png', 'MAR.png', 'ABR.png', 'MAI.png' , 'JUN.png' , 'JUL.png', 'AGO.png', 'SET.png', 'OUT.png', 'NOV.png', 'DEZ.png']:\n",
        "        image = imageio.imread(filename)\n",
        "        writer.append_data(image)\n"
      ]
    }
  ],
  "metadata": {
    "colab": {
      "name": "EnergiaSolar.ipynb",
      "provenance": [],
      "authorship_tag": "ABX9TyO1c4NDkF2XU4F8+vR3WBGV",
      "include_colab_link": true
    },
    "kernelspec": {
      "display_name": "Python 3",
      "name": "python3"
    },
    "language_info": {
      "name": "python"
    }
  },
  "nbformat": 4,
  "nbformat_minor": 0
}